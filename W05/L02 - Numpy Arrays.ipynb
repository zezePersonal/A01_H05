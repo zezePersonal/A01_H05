{
 "cells": [
  {
   "cell_type": "code",
   "execution_count": 1,
   "metadata": {},
   "outputs": [
    {
     "name": "stdout",
     "output_type": "stream",
     "text": [
      "test\n"
     ]
    }
   ],
   "source": [
    "print('test')"
   ]
  },
  {
   "cell_type": "code",
   "execution_count": 2,
   "metadata": {},
   "outputs": [],
   "source": [
    "import numpy as np"
   ]
  },
  {
   "cell_type": "code",
   "execution_count": null,
   "metadata": {},
   "outputs": [],
   "source": [
    "# Numpy bizim bir veya cok boyutlu liste tiplerinde (numpy ismiyle arrayler ile) kapsamli bir seklide islem yapmamiza yarar."
   ]
  },
  {
   "cell_type": "code",
   "execution_count": 5,
   "metadata": {},
   "outputs": [
    {
     "name": "stdout",
     "output_type": "stream",
     "text": [
      "array1: [1 2 3 4]\n",
      "1\n",
      "(4,)\n",
      "4\n",
      "int64\n"
     ]
    }
   ],
   "source": [
    "array1 = np.array([1,2,3,4])\n",
    "print(f\"array1: {array1}\")\n",
    "\n",
    "print(array1.ndim)  # boyutu\n",
    "print(array1.shape) # sekli\n",
    "print(array1.size)  # size\n",
    "print(array1.dtype)  # tipi"
   ]
  },
  {
   "cell_type": "code",
   "execution_count": null,
   "metadata": {},
   "outputs": [
    {
     "name": "stdout",
     "output_type": "stream",
     "text": [
      "array1: [[1 2 3 4]\n",
      " [5 6 7 8]]\n",
      "2\n",
      "(2, 4)\n",
      "8\n",
      "int64\n"
     ]
    }
   ],
   "source": [
    "array1 = np.array([[1,2,3,4],[5,6,7,8]])    # bu matris oldu\n",
    "print(f\"array1: {array1}\")\n",
    "\n",
    "print(array1.ndim)  # boyutu\n",
    "print(array1.shape) # sekli\n",
    "print(array1.size)  # size\n",
    "print(array1.dtype)  # tipi"
   ]
  },
  {
   "cell_type": "code",
   "execution_count": null,
   "metadata": {},
   "outputs": [
    {
     "name": "stdout",
     "output_type": "stream",
     "text": [
      "array1: \n",
      "[[[ 1  2  3  4]\n",
      "  [ 5  6  7  8]]\n",
      "\n",
      " [[ 9 10 11 12]\n",
      "  [13 14 15 16]]]\n",
      "3\n",
      "(2, 2, 4)\n",
      "16\n",
      "int64\n"
     ]
    }
   ],
   "source": [
    "array1 = np.array([[[1,2,3,4],[5,6,7,8]],[[9,10,11,12],[13,14,15,16]]])     # bu da 3 boutlu\n",
    "print(f\"array1: \\n{array1}\")\n",
    "\n",
    "print(array1.ndim)  # boyutu\n",
    "print(array1.shape) # sekli\n",
    "print(array1.size)  # size\n",
    "print(array1.dtype)  # tipi"
   ]
  },
  {
   "cell_type": "code",
   "execution_count": null,
   "metadata": {},
   "outputs": [],
   "source": []
  }
 ],
 "metadata": {
  "kernelspec": {
   "display_name": "h05_venv",
   "language": "python",
   "name": "python3"
  },
  "language_info": {
   "codemirror_mode": {
    "name": "ipython",
    "version": 3
   },
   "file_extension": ".py",
   "mimetype": "text/x-python",
   "name": "python",
   "nbconvert_exporter": "python",
   "pygments_lexer": "ipython3",
   "version": "3.12.1"
  }
 },
 "nbformat": 4,
 "nbformat_minor": 2
}
